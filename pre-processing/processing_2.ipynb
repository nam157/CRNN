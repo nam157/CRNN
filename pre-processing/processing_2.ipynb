{
 "cells": [
  {
   "cell_type": "markdown",
   "id": "9b134418",
   "metadata": {},
   "source": [
    "## XỬ LÝ INPUT"
   ]
  },
  {
   "cell_type": "markdown",
   "id": "acdd5023",
   "metadata": {},
   "source": [
    "## --------------------------------------------------------------------------------------------------------------------------------"
   ]
  },
  {
   "cell_type": "code",
   "execution_count": 1,
   "id": "47ce44b8",
   "metadata": {},
   "outputs": [],
   "source": [
    "import os\n",
    "from os.path import join\n",
    "import json\n",
    "import random\n",
    "import itertools\n",
    "import re\n",
    "import datetime\n",
    "import numpy as np\n",
    "import cv2\n",
    "import matplotlib.pyplot as plt\n",
    "import pickle"
   ]
  },
  {
   "cell_type": "code",
   "execution_count": 2,
   "id": "a39c4d7a",
   "metadata": {},
   "outputs": [
    {
     "data": {
      "text/plain": [
       "(300, 2465, 3)"
      ]
     },
     "execution_count": 2,
     "metadata": {},
     "output_type": "execute_result"
    },
    {
     "data": {
      "image/png": "[encoded data removed]",
      "text/plain": [
       "<Figure size 432x288 with 1 Axes>"
      ]
     },
     "metadata": {
      "needs_background": "light"
     },
     "output_type": "display_data"
    }
   ],
   "source": [
    "img = cv2.imread('../handwirtting_text2/datasets/dataset_2/images/20140603_0003_BCCTC_1.png')\n",
    "plt.imshow(img)\n",
    "w,h,c = img.shape\n",
    "w,h,c"
   ]
  },
  {
   "cell_type": "code",
   "execution_count": 3,
   "id": "b087593a",
   "metadata": {},
   "outputs": [
    {
     "data": {
      "text/plain": [
       "<matplotlib.image.AxesImage at 0x1a734041550>"
      ]
     },
     "execution_count": 3,
     "metadata": {},
     "output_type": "execute_result"
    },
    {
     "data": {
      "image/png": "[encoded data removed]",
      "text/plain": [
       "<Figure size 432x288 with 1 Axes>"
      ]
     },
     "metadata": {
      "needs_background": "light"
     },
     "output_type": "display_data"
    }
   ],
   "source": [
    "img_resize = cv2.resize(img,(1150,32))\n",
    "plt.imshow(img_resize)"
   ]
  },
  {
   "cell_type": "code",
   "execution_count": 4,
   "id": "47daf110",
   "metadata": {},
   "outputs": [],
   "source": [
    "\n",
    "fh = open('../handwirtting_text2/datasets/dataset_2/transcription.pk','rb')\n",
    "data = pickle.load(fh)"
   ]
  },
  {
   "cell_type": "code",
   "execution_count": 5,
   "id": "0b5db9db",
   "metadata": {},
   "outputs": [],
   "source": [
    "img_size = (1150, 32)\n",
    "path = '../handwirtting_text2/datasets/dataset_2/images/'\n",
    "chars = '\\ !%\"#&\\'()*+,-./0123456789:;?AÁẢÀÃẠÂẤẨẦẪẬĂẮẲẰẴẶBCDĐEÉẺÈẼẸÊẾỂỀỄỆFGHIÍỈÌĨỊJKLMNOÓỎÒÕỌÔỐỔỒỖỘƠỚỞỜỠỢPQRSTUÚỦÙŨỤƯỨỬỪỮỰVWXYÝỶỲỸỴZaáảàãạâấẩầẫậăắẳằẵặbcdnđeéẻèẽẹêếểềễệfghiíỉìĩịjgklmnoóỏòõọôốổồỗộơớởờỡợpqmtrạỡởdoáhtp:?ờirstuúủùũụưứửừữựvwxyýỷỳỹỵz'"
   ]
  },
  {
   "cell_type": "code",
   "execution_count": 6,
   "id": "c4c05424",
   "metadata": {},
   "outputs": [],
   "source": [
    "def encode_to_labels(txt):\n",
    "    dig_lst = []\n",
    "    for index, char in enumerate(txt):\n",
    "        try:\n",
    "            dig_lst.append(chars.index(char))\n",
    "        except:\n",
    "            print(\"No found in char_list :\", char)\n",
    "        \n",
    "    return dig_lst"
   ]
  },
  {
   "cell_type": "code",
   "execution_count": 7,
   "id": "b30966de",
   "metadata": {},
   "outputs": [],
   "source": [
    "def loader(path,data):\n",
    "    imgs,org_text = [],[]\n",
    "    for sample in data:\n",
    "        img = list(sample.keys())[0]\n",
    "        path_img = os.path.join(path,img.split('/')[-1])\n",
    "        imgs.append(path_img)\n",
    "        org_text.append(list(sample.values())[0])\n",
    "    return imgs,org_text"
   ]
  },
  {
   "cell_type": "code",
   "execution_count": 46,
   "id": "37e99dc7",
   "metadata": {},
   "outputs": [],
   "source": [
    "def processing_data_1(img):\n",
    "    \"\"\"\n",
    "    Resize ảnh đầu vào và chuẩn hóa đầu vào\n",
    "    \"\"\"\n",
    "    w,h = img.shape\n",
    "    new_w = 32\n",
    "    new_h = int(h * (new_w / w))\n",
    "    img = cv2.resize(img,(new_h,new_w))\n",
    "    w,h = img.shape\n",
    "    img = img.astype('float32')\n",
    "    #Nếu như weight ảnh nhỏ hơn 32, thì chúng ta sẽ tăng lên đúng kích thước size mình mong muốn bằng cách matrix 0\n",
    "    if w < 32:\n",
    "        add_zeros = np.full((32 - w,h),255)\n",
    "        img = np.concatenate((img,add_zeros))\n",
    "        w,h = img.shape\n",
    "    #Nếu như height ảnh nhỏ hơn 1150, thì chúng ta sẽ tăng kích thước size mình mong muốn bằng cách thêm matrix 0\n",
    "    if h < 1150:\n",
    "        add_zeros = np.full((w,1150 - h),255)\n",
    "        img = np.concatenate((img, add_zeros), axis=1)\n",
    "        w, h = img.shape\n",
    "    #Nếu như lớn hơn mình resize ảnh đúng kích thước mình mong muốn\n",
    "    if w > 32 or h > 1150:\n",
    "        dim = (1150,32)\n",
    "        img = img.resize(img,dim)\n",
    "    \n",
    "    #Chuẩn hóa images\n",
    "    img = cv2.subtract(255, img)\n",
    "    img = np.expand_dims(img, axis=2)\n",
    "    img = img / 255\n",
    "    \n",
    "    return img\n",
    "def processing_data(img):\n",
    "        height, width = img.shape\n",
    "        img = cv2.resize(img,(int(32/height*width),32))\n",
    "        height, width = img.shape\n",
    "#         img = img.astype('float32')\n",
    "        img = np.pad(img, ((0,0),(0, 1150-width)), 'median')\n",
    "        img = cv2.GaussianBlur(img, (5,5), 0)\n",
    "        img = cv2.adaptiveThreshold(img, 255, cv2.ADAPTIVE_THRESH_GAUSSIAN_C, cv2.THRESH_BINARY_INV, 11, 4)\n",
    "        img = np.expand_dims(img , axis = 2)\n",
    "        img = img/255.0\n",
    "        return img"
   ]
  },
  {
   "cell_type": "code",
   "execution_count": 26,
   "id": "0e19441e",
   "metadata": {},
   "outputs": [],
   "source": [
    "from sklearn.model_selection import train_test_split\n",
    "training,valid = train_test_split(data,test_size=0.2,random_state=0)"
   ]
  },
  {
   "cell_type": "code",
   "execution_count": 27,
   "id": "796c4a7d",
   "metadata": {},
   "outputs": [],
   "source": [
    "train_imgs,org_txt = loader(path,training)\n",
    "valid_imgs,valid_txt = loader(path,valid)"
   ]
  },
  {
   "cell_type": "code",
   "execution_count": 28,
   "id": "61cf1b91",
   "metadata": {},
   "outputs": [],
   "source": [
    "train_dict_path_img_txt = {}\n",
    "for idx in range(len(train_imgs)):\n",
    "    train_dict_path_img_txt[train_imgs[idx]] = org_txt[idx]"
   ]
  },
  {
   "cell_type": "code",
   "execution_count": 29,
   "id": "35f52519",
   "metadata": {},
   "outputs": [],
   "source": [
    "valid_dict_path_img_txt = {}\n",
    "for idx in range(len(valid_imgs)):\n",
    "    valid_dict_path_img_txt[valid_imgs[idx]] = valid_txt[idx]"
   ]
  },
  {
   "cell_type": "code",
   "execution_count": 30,
   "id": "741f248c",
   "metadata": {},
   "outputs": [],
   "source": [
    "def data_generation(data_path,dict_path_img_txt):\n",
    "    max_label_len = 0\n",
    "    images = []\n",
    "    labels = []\n",
    "    input_length = []\n",
    "    label_length = []\n",
    "    org_train_text = []\n",
    "    \n",
    "    for path_img in data_path:\n",
    "        img = cv2.imread(path_img,cv2.IMREAD_GRAYSCALE)\n",
    "        words = dict_path_img_txt[path_img]\n",
    "        \n",
    "        img = processing_data(img)\n",
    "        \n",
    "        label = encode_to_labels(words)\n",
    "        \n",
    "        if len(words) > max_label_len:\n",
    "            max_label_len = len(words)\n",
    "        \n",
    "        images.append(img)\n",
    "        labels.append(label)\n",
    "        input_length.append(245)\n",
    "        label_length.append(len(words))\n",
    "        org_train_text.append(words)\n",
    "    return images,labels,input_length,label_length,org_train_text,max_label_len"
   ]
  },
  {
   "cell_type": "code",
   "execution_count": 31,
   "id": "7523212b",
   "metadata": {},
   "outputs": [],
   "source": [
    "train_images,train_labels,train_input_length,train_label_length,org_train_text,max_label_len_train= data_generation(list(train_dict_path_img_txt.keys()),train_dict_path_img_txt)\n",
    "valid_images,valid_labels,valid_input_length,valid_label_length,org_valid_text,max_label_len_valid = data_generation(list(valid_dict_path_img_txt.keys()),valid_dict_path_img_txt)"
   ]
  },
  {
   "cell_type": "code",
   "execution_count": 32,
   "id": "d366577a",
   "metadata": {},
   "outputs": [],
   "source": [
    "#Chúng ta sẽ chuyển đổi một danh sách chứa các chuỗi đưa về nó cùng một độ dài\n",
    "from tensorflow.keras.preprocessing.sequence import pad_sequences\n",
    "train_padded_label = pad_sequences(train_labels, \n",
    "                             maxlen=max_label_len_train, \n",
    "                             padding='post',\n",
    "                             value=len(chars))\n",
    "\n",
    "valid_padded_label = pad_sequences(valid_labels, \n",
    "                             maxlen=max_label_len_train, \n",
    "                             padding='post',\n",
    "                             value=len(chars))"
   ]
  },
  {
   "cell_type": "code",
   "execution_count": 33,
   "id": "3cf934c6",
   "metadata": {},
   "outputs": [
    {
     "data": {
      "image/png": "[encoded data removed]",
      "text/plain": [
       "<Figure size 1080x144 with 1 Axes>"
      ]
     },
     "metadata": {
      "needs_background": "light"
     },
     "output_type": "display_data"
    },
    {
     "data": {
      "image/png": "[encoded data removed]",
      "text/plain": [
       "<Figure size 1080x144 with 1 Axes>"
      ]
     },
     "metadata": {
      "needs_background": "light"
     },
     "output_type": "display_data"
    }
   ],
   "source": [
    "for i in range(2):\n",
    "    plt.figure(figsize=(15,2))\n",
    "    plt.imshow(train_images[i][:,:,0], cmap=\"gray\")\n",
    "    plt.show()"
   ]
  },
  {
   "cell_type": "code",
   "execution_count": 47,
   "id": "e15b5c2f",
   "metadata": {},
   "outputs": [
    {
     "data": {
      "image/png": "[encoded data removed]",
      "text/plain": [
       "<Figure size 1080x144 with 1 Axes>"
      ]
     },
     "metadata": {
      "needs_background": "light"
     },
     "output_type": "display_data"
    },
    {
     "data": {
      "image/png": "[encoded data removed]",
      "text/plain": [
       "<Figure size 1080x144 with 1 Axes>"
      ]
     },
     "metadata": {
      "needs_background": "light"
     },
     "output_type": "display_data"
    }
   ],
   "source": [
    "for i in range(2):\n",
    "    plt.figure(figsize=(15,2))\n",
    "    plt.imshow(valid_images[i][:,:,0], cmap=\"gray\")\n",
    "    plt.show()"
   ]
  },
  {
   "cell_type": "code",
   "execution_count": 36,
   "id": "4a33b5fd",
   "metadata": {},
   "outputs": [
    {
     "data": {
      "text/plain": [
       "5836"
      ]
     },
     "execution_count": 36,
     "metadata": {},
     "output_type": "execute_result"
    }
   ],
   "source": [
    "len(train_images)"
   ]
  },
  {
   "cell_type": "code",
   "execution_count": 41,
   "id": "f75cdd33",
   "metadata": {},
   "outputs": [],
   "source": [
    "train_images = np.array(train_images)\n",
    "valid_images = np.array(valid_images)\n",
    "\n",
    "train_input_length = np.array(train_input_length)\n",
    "train_label_length = np.array(train_label_length)\n",
    "\n",
    "valid_input_length = np.array(valid_input_length)\n",
    "valid_label_length = np.array(valid_label_length)"
   ]
  },
  {
   "cell_type": "code",
   "execution_count": 45,
   "id": "a78b07f9",
   "metadata": {},
   "outputs": [],
   "source": [
    "with open('train_images.pk', 'wb') as handle:\n",
    "    pickle.dump(train_images, handle, protocol=pickle.HIGHEST_PROTOCOL)\n",
    "    \n",
    "with open('train_padded_label.pk', 'wb') as handle:\n",
    "    pickle.dump(train_padded_label, handle, protocol=pickle.HIGHEST_PROTOCOL)\n",
    "    \n",
    "with open('train_input_length.pk', 'wb') as handle:\n",
    "    pickle.dump(train_input_length, handle, protocol=pickle.HIGHEST_PROTOCOL)\n",
    "    \n",
    "with open('train_label_length.pk', 'wb') as handle:\n",
    "    pickle.dump(train_label_length, handle, protocol=pickle.HIGHEST_PROTOCOL)\n",
    "#----------------------------------------------------------------------------------\n",
    "with open('valid_images.pk', 'wb') as handle:\n",
    "    pickle.dump(valid_images, handle, protocol=pickle.HIGHEST_PROTOCOL)\n",
    "\n",
    "with open('valid_padded_label.pk', 'wb') as handle:\n",
    "    pickle.dump(valid_padded_label, handle, protocol=pickle.HIGHEST_PROTOCOL)\n",
    "    \n",
    "with open('valid_input_length.pk', 'wb') as handle:\n",
    "    pickle.dump(valid_input_length, handle, protocol=pickle.HIGHEST_PROTOCOL)\n",
    "    \n",
    "with open('valid_label_length.pk', 'wb') as handle:\n",
    "    pickle.dump(valid_label_length, handle, protocol=pickle.HIGHEST_PROTOCOL)"
   ]
  },
  {
   "cell_type": "code",
   "execution_count": null,
   "id": "e4e785eb",
   "metadata": {},
   "outputs": [],
   "source": []
  }
 ],
 "metadata": {
  "kernelspec": {
   "display_name": "Python 3 (ipykernel)",
   "language": "python",
   "name": "python3"
  },
  "language_info": {
   "codemirror_mode": {
    "name": "ipython",
    "version": 3
   },
   "file_extension": ".py",
   "mimetype": "text/x-python",
   "name": "python",
   "nbconvert_exporter": "python",
   "pygments_lexer": "ipython3",
   "version": "3.9.7"
  }
 },
 "nbformat": 4,
 "nbformat_minor": 5
}
