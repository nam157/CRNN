{
 "cells": [
  {
   "cell_type": "markdown",
   "id": "9b134418",
   "metadata": {},
   "source": [
    "## XỬ LÝ INPUT"
   ]
  },
  {
   "cell_type": "markdown",
   "id": "acdd5023",
   "metadata": {},
   "source": [
    "## --------------------------------------------------------------------------------------------------------------------------------"
   ]
  },
  {
   "cell_type": "code",
   "execution_count": 1,
   "id": "47ce44b8",
   "metadata": {},
   "outputs": [],
   "source": [
    "import os\n",
    "from os.path import join\n",
    "import json\n",
    "import random\n",
    "import itertools\n",
    "import re\n",
    "import datetime\n",
    "import numpy as np\n",
    "import cv2\n",
    "import matplotlib.pyplot as plt\n",
    "import pickle"
   ]
  },
  {
   "cell_type": "code",
   "execution_count": 2,
   "id": "a39c4d7a",
   "metadata": {},
   "outputs": [
    {
     "data": {
      "text/plain": [
       "(300, 2465, 3)"
      ]
     },
     "execution_count": 2,
     "metadata": {},
     "output_type": "execute_result"
    },
    {
     "data": {
      "image/png": "[encoded data removed]",
      "text/plain": [
       "<Figure size 432x288 with 1 Axes>"
      ]
     },
     "metadata": {
      "needs_background": "light"
     },
     "output_type": "display_data"
    }
   ],
   "source": [
    "img = cv2.imread('../handwirtting_text2/datasets/dataset_2/images/20140603_0003_BCCTC_1.png')\n",
    "plt.imshow(img)\n",
    "w,h,c = img.shape\n",
    "w,h,c"
   ]
  },
  {
   "cell_type": "code",
   "execution_count": 25,
   "id": "b087593a",
   "metadata": {},
   "outputs": [
    {
     "data": {
      "text/plain": [
       "<matplotlib.image.AxesImage at 0x23971519370>"
      ]
     },
     "execution_count": 25,
     "metadata": {},
     "output_type": "execute_result"
    },
    {
     "data": {
      "image/png": "[encoded data removed]",
      "text/plain": [
       "<Figure size 432x288 with 1 Axes>"
      ]
     },
     "metadata": {
      "needs_background": "light"
     },
     "output_type": "display_data"
    }
   ],
   "source": [
    "img_resize = cv2.resize(img,(1500,128))\n",
    "plt.imshow(img_resize)"
   ]
  },
  {
   "cell_type": "code",
   "execution_count": 26,
   "id": "47daf110",
   "metadata": {},
   "outputs": [],
   "source": [
    "\n",
    "fh = open('../handwirtting_text2/datasets/dataset_2/transcription.pk','rb')\n",
    "data = pickle.load(fh)"
   ]
  },
  {
   "cell_type": "code",
   "execution_count": 27,
   "id": "0b5db9db",
   "metadata": {},
   "outputs": [],
   "source": [
    "img_size = (1500, 128)\n",
    "path = '../handwirtting_text2/datasets/dataset_2/images/'\n",
    "chars = '\\ !%\"#&\\'()*+,-./0123456789:;?AÁẢÀÃẠÂẤẨẦẪẬĂẮẲẰẴẶBCDĐEÉẺÈẼẸÊẾỂỀỄỆFGHIÍỈÌĨỊJKLMNOÓỎÒÕỌÔỐỔỒỖỘƠỚỞỜỠỢPQRSTUÚỦÙŨỤƯỨỬỪỮỰVWXYÝỶỲỸỴZaáảàãạâấẩầẫậăắẳằẵặbcdnđeéẻèẽẹêếểềễệfghiíỉìĩịjgklmnoóỏòõọôốổồỗộơớởờỡợpqmtrạỡởdoáhtp:?ờirstuúủùũụưứửừữựvwxyýỷỳỹỵz'"
   ]
  },
  {
   "cell_type": "code",
   "execution_count": 28,
   "id": "c4c05424",
   "metadata": {},
   "outputs": [],
   "source": [
    "def encode_to_labels(txt):\n",
    "    dig_lst = []\n",
    "    for index, char in enumerate(txt):\n",
    "        try:\n",
    "            dig_lst.append(chars.index(char))\n",
    "        except:\n",
    "            print(\"No found in char_list :\", char)\n",
    "        \n",
    "    return dig_lst"
   ]
  },
  {
   "cell_type": "code",
   "execution_count": 29,
   "id": "b30966de",
   "metadata": {},
   "outputs": [],
   "source": [
    "def loader(path,data):\n",
    "    imgs,org_text = [],[]\n",
    "    for sample in data:\n",
    "        img = list(sample.keys())[0]\n",
    "        path_img = os.path.join(path,img.split('/')[-1])\n",
    "        imgs.append(path_img)\n",
    "        org_text.append(list(sample.values())[0])\n",
    "    return imgs,org_text"
   ]
  },
  {
   "cell_type": "code",
   "execution_count": 30,
   "id": "37e99dc7",
   "metadata": {},
   "outputs": [],
   "source": [
    "def process_image(img):\n",
    "    \"\"\"\n",
    "    Converts image to shape (118, 1500, 1) & normalize\n",
    "    \"\"\"\n",
    "    w, h = img.shape\n",
    "    new_w = 118\n",
    "    new_h = int(h * (new_w / w))\n",
    "    img = cv2.resize(img, (new_h, new_w))\n",
    "    w, h = img.shape\n",
    "    img = img.astype('float32')\n",
    "    \n",
    "    if w < 118:\n",
    "        add_zeros = np.full((118-w, h), 255)\n",
    "        img = np.concatenate((img, add_zeros))\n",
    "        w, h = img.shape\n",
    "    \n",
    "    if h < 1500:\n",
    "        add_zeros = np.full((w, 1500-h), 255)\n",
    "        img = np.concatenate((img, add_zeros), axis=1)\n",
    "        w, h = img.shape\n",
    "    if h > 1500 or w > 118:\n",
    "        dim = (1500,118)\n",
    "        img = cv2.resize(img, dim)\n",
    "        \n",
    "    img = cv2.subtract(255, img)\n",
    "    img = np.expand_dims(img , axis = 2)\n",
    "    img = img/255.0\n",
    "\n",
    "    return img\n",
    "def processing_data(img):\n",
    "        height, width = img.shape\n",
    "        img = cv2.resize(img,(int(128/height*width),128))\n",
    "        height, width = img.shape\n",
    "#         img = img.astype('float32')\n",
    "        img = np.pad(img, ((0,0),(0, 1150-width)), 'median')\n",
    "        img = cv2.GaussianBlur(img, (5,5), 0)\n",
    "        img = cv2.adaptiveThreshold(img, 255, cv2.ADAPTIVE_THRESH_GAUSSIAN_C, cv2.THRESH_BINARY_INV, 11, 4)\n",
    "        img = np.expand_dims(img , axis = 2)\n",
    "        img = img/255.0\n",
    "        return img"
   ]
  },
  {
   "cell_type": "code",
   "execution_count": 31,
   "id": "0e19441e",
   "metadata": {},
   "outputs": [],
   "source": [
    "from sklearn.model_selection import train_test_split\n",
    "training,valid = train_test_split(data,test_size=0.2,random_state=0)"
   ]
  },
  {
   "cell_type": "code",
   "execution_count": 32,
   "id": "796c4a7d",
   "metadata": {},
   "outputs": [],
   "source": [
    "train_imgs,org_txt = loader(path,training)\n",
    "valid_imgs,valid_txt = loader(path,valid)"
   ]
  },
  {
   "cell_type": "code",
   "execution_count": 33,
   "id": "61cf1b91",
   "metadata": {},
   "outputs": [],
   "source": [
    "train_dict_path_img_txt = {}\n",
    "for idx in range(len(train_imgs)):\n",
    "    train_dict_path_img_txt[train_imgs[idx]] = org_txt[idx]"
   ]
  },
  {
   "cell_type": "code",
   "execution_count": 34,
   "id": "35f52519",
   "metadata": {},
   "outputs": [],
   "source": [
    "valid_dict_path_img_txt = {}\n",
    "for idx in range(len(valid_imgs)):\n",
    "    valid_dict_path_img_txt[valid_imgs[idx]] = valid_txt[idx]"
   ]
  },
  {
   "cell_type": "code",
   "execution_count": 37,
   "id": "741f248c",
   "metadata": {},
   "outputs": [],
   "source": [
    "def data_generation(data_path,dict_path_img_txt):\n",
    "    max_label_len = 0\n",
    "    images = []\n",
    "    labels = []\n",
    "    input_length = []\n",
    "    label_length = []\n",
    "    org_train_text = []\n",
    "    \n",
    "    for path_img in data_path:\n",
    "        img = cv2.imread(path_img,cv2.IMREAD_GRAYSCALE)\n",
    "        words = dict_path_img_txt[path_img]\n",
    "        \n",
    "        img = process_image(img)\n",
    "        \n",
    "        label = encode_to_labels(words)\n",
    "        \n",
    "        if len(words) > max_label_len:\n",
    "            max_label_len = len(words)\n",
    "        \n",
    "        images.append(img)\n",
    "        labels.append(label)\n",
    "        input_length.append(233)\n",
    "        label_length.append(len(words))\n",
    "        org_train_text.append(words)\n",
    "    return images,labels,input_length,label_length,org_train_text,max_label_len"
   ]
  },
  {
   "cell_type": "code",
   "execution_count": 38,
   "id": "7523212b",
   "metadata": {},
   "outputs": [],
   "source": [
    "train_images,train_labels,train_input_length,train_label_length,org_train_text,max_label_len_train= data_generation(list(train_dict_path_img_txt.keys()),train_dict_path_img_txt)\n",
    "valid_images,valid_labels,valid_input_length,valid_label_length,org_valid_text,max_label_len_valid = data_generation(list(valid_dict_path_img_txt.keys()),valid_dict_path_img_txt)"
   ]
  },
  {
   "cell_type": "code",
   "execution_count": 39,
   "id": "d366577a",
   "metadata": {},
   "outputs": [],
   "source": [
    "#Chúng ta sẽ chuyển đổi một danh sách chứa các chuỗi đưa về nó cùng một độ dài\n",
    "from tensorflow.keras.preprocessing.sequence import pad_sequences\n",
    "train_padded_label = pad_sequences(train_labels, \n",
    "                             maxlen=233, \n",
    "                             padding='post',\n",
    "                             value=0)\n",
    "\n",
    "valid_padded_label = pad_sequences(valid_labels, \n",
    "                             maxlen=233, \n",
    "                             padding='post',\n",
    "                             value=0)"
   ]
  },
  {
   "cell_type": "code",
   "execution_count": 40,
   "id": "3cf934c6",
   "metadata": {},
   "outputs": [
    {
     "data": {
      "image/png": "[encoded data removed]",
      "text/plain": [
       "<Figure size 1080x144 with 1 Axes>"
      ]
     },
     "metadata": {
      "needs_background": "light"
     },
     "output_type": "display_data"
    },
    {
     "data": {
      "image/png": "[encoded data removed]",
      "text/plain": [
       "<Figure size 1080x144 with 1 Axes>"
      ]
     },
     "metadata": {
      "needs_background": "light"
     },
     "output_type": "display_data"
    }
   ],
   "source": [
    "for i in range(2):\n",
    "    plt.figure(figsize=(15,2))\n",
    "    plt.imshow(train_images[i][:,:,0], cmap=\"gray\")\n",
    "    plt.show()"
   ]
  },
  {
   "cell_type": "code",
   "execution_count": 41,
   "id": "e15b5c2f",
   "metadata": {},
   "outputs": [
    {
     "data": {
      "image/png": "[encoded data removed]",
      "text/plain": [
       "<Figure size 1080x144 with 1 Axes>"
      ]
     },
     "metadata": {
      "needs_background": "light"
     },
     "output_type": "display_data"
    },
    {
     "data": {
      "image/png": "[encoded data removed]",
      "text/plain": [
       "<Figure size 1080x144 with 1 Axes>"
      ]
     },
     "metadata": {
      "needs_background": "light"
     },
     "output_type": "display_data"
    }
   ],
   "source": [
    "for i in range(2):\n",
    "    plt.figure(figsize=(15,2))\n",
    "    plt.imshow(valid_images[i][:,:,0], cmap=\"gray\")\n",
    "    plt.show()"
   ]
  },
  {
   "cell_type": "code",
   "execution_count": 42,
   "id": "4a33b5fd",
   "metadata": {},
   "outputs": [
    {
     "data": {
      "text/plain": [
       "5836"
      ]
     },
     "execution_count": 42,
     "metadata": {},
     "output_type": "execute_result"
    }
   ],
   "source": [
    "len(train_images)"
   ]
  },
  {
   "cell_type": "code",
   "execution_count": 43,
   "id": "f75cdd33",
   "metadata": {},
   "outputs": [],
   "source": [
    "train_images = np.array(train_images)\n",
    "valid_images = np.array(valid_images)\n",
    "\n",
    "train_input_length = np.array(train_input_length)\n",
    "train_label_length = np.array(train_label_length)\n",
    "\n",
    "valid_input_length = np.array(valid_input_length)\n",
    "valid_label_length = np.array(valid_label_length)"
   ]
  },
  {
   "cell_type": "code",
   "execution_count": 49,
   "id": "e478b238",
   "metadata": {},
   "outputs": [
    {
     "data": {
      "text/plain": [
       "dtype('float64')"
      ]
     },
     "execution_count": 49,
     "metadata": {},
     "output_type": "execute_result"
    }
   ],
   "source": [
    "train_images[0].dtype"
   ]
  },
  {
   "cell_type": "code",
   "execution_count": 44,
   "id": "a78b07f9",
   "metadata": {},
   "outputs": [],
   "source": [
    "with open('../handwirtting_text2/datasets/dataset_2/data_file_pk_ver2/train_images.pk', 'wb') as handle:\n",
    "    pickle.dump(train_images, handle, protocol=pickle.HIGHEST_PROTOCOL)\n",
    "    \n",
    "with open('../handwirtting_text2/datasets/dataset_2/data_file_pk_ver2/train_padded_label.pk', 'wb') as handle:\n",
    "    pickle.dump(train_padded_label, handle, protocol=pickle.HIGHEST_PROTOCOL)\n",
    "    \n",
    "with open('../handwirtting_text2/datasets/dataset_2/data_file_pk_ver2/train_input_length.pk', 'wb') as handle:\n",
    "    pickle.dump(train_input_length, handle, protocol=pickle.HIGHEST_PROTOCOL)\n",
    "    \n",
    "with open('../handwirtting_text2/datasets/dataset_2/data_file_pk_ver2/train_label_length.pk', 'wb') as handle:\n",
    "    pickle.dump(train_label_length, handle, protocol=pickle.HIGHEST_PROTOCOL)\n",
    "#----------------------------------------------------------------------------------\n",
    "with open('../handwirtting_text2/datasets/dataset_2/data_file_pk_ver2/valid_images.pk', 'wb') as handle:\n",
    "    pickle.dump(valid_images, handle, protocol=pickle.HIGHEST_PROTOCOL)\n",
    "with open('../handwirtting_text2/datasets/dataset_2/data_file_pk_ver2/valid_padded_label.pk', 'wb') as handle:\n",
    "    pickle.dump(valid_padded_label, handle, protocol=pickle.HIGHEST_PROTOCOL)\n",
    "    \n",
    "with open('../handwirtting_text2/datasets/dataset_2/data_file_pk_ver2/valid_input_length.pk', 'wb') as handle:\n",
    "    pickle.dump(valid_input_length, handle, protocol=pickle.HIGHEST_PROTOCOL)\n",
    "    \n",
    "with open('../handwirtting_text2/datasets/dataset_2/data_file_pk_ver2/valid_label_length.pk', 'wb') as handle:\n",
    "    pickle.dump(valid_label_length, handle, protocol=pickle.HIGHEST_PROTOCOL)"
   ]
  },
  {
   "cell_type": "code",
   "execution_count": 45,
   "id": "e4e785eb",
   "metadata": {},
   "outputs": [
    {
     "data": {
      "text/plain": [
       "(5836, 118, 1500, 1)"
      ]
     },
     "execution_count": 45,
     "metadata": {},
     "output_type": "execute_result"
    }
   ],
   "source": [
    "train_images.shape"
   ]
  },
  {
   "cell_type": "markdown",
   "id": "a22f0ddb",
   "metadata": {},
   "source": [
    "## Model"
   ]
  },
  {
   "cell_type": "markdown",
   "id": "fdfaf824",
   "metadata": {},
   "source": [
    "## ----------------------------------------------------------------------------------------------------------------------------"
   ]
  },
  {
   "cell_type": "code",
   "execution_count": 22,
   "id": "13cdae07",
   "metadata": {},
   "outputs": [],
   "source": [
    "# import our model, different layers and activation function \n",
    "from tensorflow.keras.layers import Dense, LSTM, Reshape, BatchNormalization,MaxPooling2D, GRU,Input, Conv2D, MaxPool2D, Lambda, Bidirectional, Add, Activation\n",
    "from tensorflow.keras.models import Model\n",
    "from tensorflow.keras.activations import relu, sigmoid, softmax\n",
    "import tensorflow.keras.backend as K\n",
    "from tensorflow.keras.utils import to_categorical\n",
    "from tensorflow.keras.callbacks import CSVLogger, TensorBoard, ModelCheckpoint, EarlyStopping, ReduceLROnPlateau\n",
    "import tensorflow as tf\n",
    "import os,cv2\n",
    "import pickle\n",
    "import numpy as np\n",
    "import matplotlib.pyplot as plt\n",
    "from keras.layers.merge import add, concatenate"
   ]
  },
  {
   "cell_type": "code",
   "execution_count": 30,
   "id": "48d86c6e",
   "metadata": {},
   "outputs": [],
   "source": [
    "# input with shape of height=32 and width=128 \n",
    "inputs = Input(shape=(32,1150,1))\n",
    " \n",
    "# convolution layer with kernel size (3,3)\n",
    "conv_1 = Conv2D(64, (3,3), activation = 'relu', padding='same')(inputs)\n",
    "# poolig layer with kernel size (2,2)\n",
    "pool_1 = MaxPool2D(pool_size=(2, 2), strides=2)(conv_1)\n",
    " \n",
    "conv_2 = Conv2D(128, (3,3), activation = 'relu', padding='same')(pool_1)\n",
    "pool_2 = MaxPool2D(pool_size=(2, 2), strides=2)(conv_2)\n",
    " \n",
    "conv_3 = Conv2D(256, (3,3), activation = 'relu', padding='same')(pool_2)\n",
    " \n",
    "conv_4 = Conv2D(256, (3,3), activation = 'relu', padding='same')(conv_3)\n",
    "# poolig layer with kernel size (2,1)\n",
    "pool_4 = MaxPool2D(pool_size=(2, 1))(conv_4)\n",
    " \n",
    "conv_5 = Conv2D(512, (3,3), activation = 'relu', padding='same')(pool_4)\n",
    "# Batch normalization layer\n",
    "batch_norm_5 = BatchNormalization()(conv_5)\n",
    " \n",
    "conv_6 = Conv2D(512, (3,3), activation = 'relu', padding='same')(batch_norm_5)\n",
    "batch_norm_6 = BatchNormalization()(conv_6)\n",
    "pool_6 = MaxPool2D(pool_size=(2, 1))(batch_norm_6)\n",
    " \n",
    "conv_7 = Conv2D(512, (2,2), activation = 'relu')(pool_6)\n",
    " \n",
    "squeezed = Lambda(lambda x: K.squeeze(x, 1))(conv_7)\n",
    " \n",
    "# bidirectional LSTM layers with units=128\n",
    "blstm_1 = Bidirectional(LSTM(512, return_sequences=True, dropout = 0.2))(squeezed)\n",
    "blstm_2 = Bidirectional(LSTM(512, return_sequences=True, dropout = 0.2))(blstm_1)\n",
    " \n",
    "outputs = Dense(len(chars)+1, activation = 'softmax')(blstm_2)\n",
    "\n",
    "# model to be used at test time\n",
    "model = Model(inputs, outputs)"
   ]
  },
  {
   "cell_type": "code",
   "execution_count": 31,
   "id": "369fd018",
   "metadata": {},
   "outputs": [
    {
     "name": "stdout",
     "output_type": "stream",
     "text": [
      "Model: \"model_2\"\n",
      "_________________________________________________________________\n",
      " Layer (type)                Output Shape              Param #   \n",
      "=================================================================\n",
      " input_2 (InputLayer)        [(None, 32, 1150, 1)]     0         \n",
      "                                                                 \n",
      " conv2d_7 (Conv2D)           (None, 32, 1150, 64)      640       \n",
      "                                                                 \n",
      " max_pooling2d_4 (MaxPooling  (None, 16, 575, 64)      0         \n",
      " 2D)                                                             \n",
      "                                                                 \n",
      " conv2d_8 (Conv2D)           (None, 16, 575, 128)      73856     \n",
      "                                                                 \n",
      " max_pooling2d_5 (MaxPooling  (None, 8, 287, 128)      0         \n",
      " 2D)                                                             \n",
      "                                                                 \n",
      " conv2d_9 (Conv2D)           (None, 8, 287, 256)       295168    \n",
      "                                                                 \n",
      " conv2d_10 (Conv2D)          (None, 8, 287, 256)       590080    \n",
      "                                                                 \n",
      " max_pooling2d_6 (MaxPooling  (None, 4, 287, 256)      0         \n",
      " 2D)                                                             \n",
      "                                                                 \n",
      " conv2d_11 (Conv2D)          (None, 4, 287, 512)       1180160   \n",
      "                                                                 \n",
      " batch_normalization_2 (Batc  (None, 4, 287, 512)      2048      \n",
      " hNormalization)                                                 \n",
      "                                                                 \n",
      " conv2d_12 (Conv2D)          (None, 4, 287, 512)       2359808   \n",
      "                                                                 \n",
      " batch_normalization_3 (Batc  (None, 4, 287, 512)      2048      \n",
      " hNormalization)                                                 \n",
      "                                                                 \n",
      " max_pooling2d_7 (MaxPooling  (None, 2, 287, 512)      0         \n",
      " 2D)                                                             \n",
      "                                                                 \n",
      " conv2d_13 (Conv2D)          (None, 1, 286, 512)       1049088   \n",
      "                                                                 \n",
      " lambda_1 (Lambda)           (None, 286, 512)          0         \n",
      "                                                                 \n",
      " bidirectional_2 (Bidirectio  (None, 286, 1024)        4198400   \n",
      " nal)                                                            \n",
      "                                                                 \n",
      " bidirectional_3 (Bidirectio  (None, 286, 1024)        6295552   \n",
      " nal)                                                            \n",
      "                                                                 \n",
      " dense_1 (Dense)             (None, 286, 234)          239850    \n",
      "                                                                 \n",
      "=================================================================\n",
      "Total params: 16,286,698\n",
      "Trainable params: 16,284,650\n",
      "Non-trainable params: 2,048\n",
      "_________________________________________________________________\n"
     ]
    }
   ],
   "source": [
    "model.summary()"
   ]
  },
  {
   "cell_type": "code",
   "execution_count": 32,
   "id": "a32bde3d",
   "metadata": {},
   "outputs": [],
   "source": [
    "labels = Input(name='the_labels', shape=[233], dtype='float32')\n",
    "input_length = Input(name='input_length', shape=[1], dtype='int64')\n",
    "label_length = Input(name='label_length', shape=[1], dtype='int64')"
   ]
  },
  {
   "cell_type": "code",
   "execution_count": 33,
   "id": "d9c1c8fd",
   "metadata": {},
   "outputs": [],
   "source": [
    "def ctc_lambda_func(args):\n",
    "    y_pred, labels, input_length, label_length = args\n",
    "    \"\"\"\n",
    "    labels: tensor (number of samples, max_string_length) containing the truth labels.\n",
    "    y_pred: tensor (number of samples, time_steps, num_character_labels) containing the prediction, or output of the softmax.\n",
    "    input_length: tensor (number of samples, 1) containing the sequence length for each batch item in y_pred.\n",
    "    label_length: tensor (number of samples, 1) containing the sequence length for each batch item in y_true.\n",
    "    \"\"\"\n",
    "    return K.ctc_batch_cost(labels, y_pred, input_length, label_length)"
   ]
  },
  {
   "cell_type": "code",
   "execution_count": 34,
   "id": "0193f708",
   "metadata": {},
   "outputs": [],
   "source": [
    "# out loss function (just take the inputs and put it in our ctc_batch_cost)\n",
    "loss_out = Lambda(ctc_lambda_func, output_shape=(1,), name='ctc')([outputs, labels, input_length, label_length])\n",
    "\n",
    "#model to be used at training time\n",
    "model = Model(inputs=[inputs, labels, input_length, label_length], outputs=loss_out)"
   ]
  },
  {
   "cell_type": "code",
   "execution_count": 35,
   "id": "ae38d528",
   "metadata": {},
   "outputs": [
    {
     "name": "stdout",
     "output_type": "stream",
     "text": [
      "Model: \"model_3\"\n",
      "__________________________________________________________________________________________________\n",
      " Layer (type)                   Output Shape         Param #     Connected to                     \n",
      "==================================================================================================\n",
      " input_2 (InputLayer)           [(None, 32, 1150, 1  0           []                               \n",
      "                                )]                                                                \n",
      "                                                                                                  \n",
      " conv2d_7 (Conv2D)              (None, 32, 1150, 64  640         ['input_2[0][0]']                \n",
      "                                )                                                                 \n",
      "                                                                                                  \n",
      " max_pooling2d_4 (MaxPooling2D)  (None, 16, 575, 64)  0          ['conv2d_7[0][0]']               \n",
      "                                                                                                  \n",
      " conv2d_8 (Conv2D)              (None, 16, 575, 128  73856       ['max_pooling2d_4[0][0]']        \n",
      "                                )                                                                 \n",
      "                                                                                                  \n",
      " max_pooling2d_5 (MaxPooling2D)  (None, 8, 287, 128)  0          ['conv2d_8[0][0]']               \n",
      "                                                                                                  \n",
      " conv2d_9 (Conv2D)              (None, 8, 287, 256)  295168      ['max_pooling2d_5[0][0]']        \n",
      "                                                                                                  \n",
      " conv2d_10 (Conv2D)             (None, 8, 287, 256)  590080      ['conv2d_9[0][0]']               \n",
      "                                                                                                  \n",
      " max_pooling2d_6 (MaxPooling2D)  (None, 4, 287, 256)  0          ['conv2d_10[0][0]']              \n",
      "                                                                                                  \n",
      " conv2d_11 (Conv2D)             (None, 4, 287, 512)  1180160     ['max_pooling2d_6[0][0]']        \n",
      "                                                                                                  \n",
      " batch_normalization_2 (BatchNo  (None, 4, 287, 512)  2048       ['conv2d_11[0][0]']              \n",
      " rmalization)                                                                                     \n",
      "                                                                                                  \n",
      " conv2d_12 (Conv2D)             (None, 4, 287, 512)  2359808     ['batch_normalization_2[0][0]']  \n",
      "                                                                                                  \n",
      " batch_normalization_3 (BatchNo  (None, 4, 287, 512)  2048       ['conv2d_12[0][0]']              \n",
      " rmalization)                                                                                     \n",
      "                                                                                                  \n",
      " max_pooling2d_7 (MaxPooling2D)  (None, 2, 287, 512)  0          ['batch_normalization_3[0][0]']  \n",
      "                                                                                                  \n",
      " conv2d_13 (Conv2D)             (None, 1, 286, 512)  1049088     ['max_pooling2d_7[0][0]']        \n",
      "                                                                                                  \n",
      " lambda_1 (Lambda)              (None, 286, 512)     0           ['conv2d_13[0][0]']              \n",
      "                                                                                                  \n",
      " bidirectional_2 (Bidirectional  (None, 286, 1024)   4198400     ['lambda_1[0][0]']               \n",
      " )                                                                                                \n",
      "                                                                                                  \n",
      " bidirectional_3 (Bidirectional  (None, 286, 1024)   6295552     ['bidirectional_2[0][0]']        \n",
      " )                                                                                                \n",
      "                                                                                                  \n",
      " dense_1 (Dense)                (None, 286, 234)     239850      ['bidirectional_3[0][0]']        \n",
      "                                                                                                  \n",
      " the_labels (InputLayer)        [(None, 233)]        0           []                               \n",
      "                                                                                                  \n",
      " input_length (InputLayer)      [(None, 1)]          0           []                               \n",
      "                                                                                                  \n",
      " label_length (InputLayer)      [(None, 1)]          0           []                               \n",
      "                                                                                                  \n",
      " ctc (Lambda)                   (None, 1)            0           ['dense_1[0][0]',                \n",
      "                                                                  'the_labels[0][0]',             \n",
      "                                                                  'input_length[0][0]',           \n",
      "                                                                  'label_length[0][0]']           \n",
      "                                                                                                  \n",
      "==================================================================================================\n",
      "Total params: 16,286,698\n",
      "Trainable params: 16,284,650\n",
      "Non-trainable params: 2,048\n",
      "__________________________________________________________________________________________________\n"
     ]
    }
   ],
   "source": [
    "model.summary()"
   ]
  },
  {
   "cell_type": "code",
   "execution_count": 61,
   "id": "e61d40e8",
   "metadata": {},
   "outputs": [],
   "source": [
    "# ready ctc loss function and optimizers\n",
    "model.compile(loss={'ctc': lambda y_true, y_pred: y_pred}, optimizer=tf.keras.optimizers.Adam())\n",
    "# our callbacks hell to optimize our learning\n",
    "callbacks = [\n",
    "    \n",
    "    ModelCheckpoint(\n",
    "        filepath=os.path.join('checkpoint_weights.hdf5'),\n",
    "        monitor='val_loss',\n",
    "        save_best_only=True,\n",
    "        save_weights_only=True,\n",
    "        verbose=1),\n",
    "    EarlyStopping(\n",
    "        monitor='val_loss',\n",
    "        min_delta=1e-8,\n",
    "        patience=20,\n",
    "        restore_best_weights=True,\n",
    "        verbose=1),\n",
    "    ReduceLROnPlateau(\n",
    "        monitor='val_loss',\n",
    "        min_delta=1e-8,\n",
    "        factor=0.2,\n",
    "        patience=10,\n",
    "        verbose=1)\n",
    "]\n",
    "callbacks_list = callbacks"
   ]
  },
  {
   "cell_type": "code",
   "execution_count": null,
   "id": "e354bdca",
   "metadata": {},
   "outputs": [
    {
     "name": "stdout",
     "output_type": "stream",
     "text": [
      "Epoch 1/100\n",
      "  1/183 [..............................] - ETA: 2:20:22 - loss: 1088.0430"
     ]
    }
   ],
   "source": [
    "# choose batchsize and epochs\n",
    "\n",
    "batch_size = 32\n",
    "epochs = 100\n",
    "\n",
    "history = model.fit(x=[train_images, train_padded_label, train_input_length, train_label_length], \n",
    "          y=np.zeros(len(train_images)),\n",
    "          batch_size=batch_size, \n",
    "          epochs = epochs,\n",
    "          validation_data = ([valid_images, valid_padded_label, valid_input_length, valid_label_length], [np.zeros(len(valid_images))]),\n",
    "          verbose = 1, callbacks = callbacks_list)"
   ]
  },
  {
   "cell_type": "code",
   "execution_count": null,
   "id": "21852c41",
   "metadata": {},
   "outputs": [],
   "source": []
  }
 ],
 "metadata": {
  "kernelspec": {
   "display_name": "Python 3 (ipykernel)",
   "language": "python",
   "name": "python3"
  },
  "language_info": {
   "codemirror_mode": {
    "name": "ipython",
    "version": 3
   },
   "file_extension": ".py",
   "mimetype": "text/x-python",
   "name": "python",
   "nbconvert_exporter": "python",
   "pygments_lexer": "ipython3",
   "version": "3.9.7"
  }
 },
 "nbformat": 4,
 "nbformat_minor": 5
}
